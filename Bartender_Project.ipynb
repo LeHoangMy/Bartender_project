{
 "cells": [
  {
   "cell_type": "code",
   "execution_count": 1,
   "metadata": {},
   "outputs": [],
   "source": [
    "import random"
   ]
  },
  {
   "cell_type": "code",
   "execution_count": 5,
   "metadata": {},
   "outputs": [],
   "source": [
    "def bartender(ques,ingredients):\n",
    "    print(\"Welcome to our bar!\")\n",
    "    agree = ['yes','y']\n",
    "    disagree = ['no','n']\n",
    "    for i in ques:\n",
    "        print(ques[i])\n",
    "        while True:\n",
    "            answer = input()\n",
    "            if (answer.lower() not in agree) and (answer.lower() not in disagree):\n",
    "                print(\"The answer can only be Yes or No. Please enter again!\")\n",
    "            elif answer.lower() in agree:\n",
    "                print(random.choice(ingredients[i]))\n",
    "                return\n",
    "            else:\n",
    "                break\n",
    "            \n",
    "        "
   ]
  },
  {
   "cell_type": "code",
   "execution_count": 6,
   "metadata": {},
   "outputs": [],
   "source": [
    "questions = {\n",
    "\"strong\": \"Do ye like yer drinks strong?\",\n",
    "\"salty\": \"Do ye like it with a salty tang?\",\n",
    "\"bitter\": \"Are ye a lubber who likes it bitter?\",\n",
    "\"sweet\": \"Would ye like a bit of sweetness with yer poison?\",\n",
    "\"fruity\": \"Are ye one for a fruity finish?\",\n",
    "}\n",
    "ingredients = {\n",
    "\"strong\": [\"glug of rum\", \"slug of whisky\", \"splash of gin\"],\n",
    "\"salty\": [\"olive on a stick\", \"salt-dusted rim\", \"rasher of bacon\"],\n",
    "\"bitter\": [\"shake of bitters\", \"splash of tonic\", \"twist of lemon peel\"],\n",
    "\"sweet\": [\"sugar cube\", \"spoonful of honey\", \"spash of cola\"],\n",
    "\"fruity\": [\"slice of orange\", \"dash of cassis\", \"cherry on top\"],\n",
    "}"
   ]
  },
  {
   "cell_type": "code",
   "execution_count": 11,
   "metadata": {},
   "outputs": [
    {
     "name": "stdout",
     "output_type": "stream",
     "text": [
      "Welcome to our bar!\n",
      "Do ye like yer drinks strong?\n",
      "NO\n",
      "Do ye like it with a salty tang?\n",
      "No\n",
      "Are ye a lubber who likes it bitter?\n",
      "N\n",
      "Would ye like a bit of sweetness with yer poison?\n",
      "y\n",
      "spoonful of honey\n"
     ]
    }
   ],
   "source": [
    "bartender(questions,ingredients)"
   ]
  }
 ],
 "metadata": {
  "kernelspec": {
   "display_name": "Python 3",
   "language": "python",
   "name": "python3"
  },
  "language_info": {
   "codemirror_mode": {
    "name": "ipython",
    "version": 3
   },
   "file_extension": ".py",
   "mimetype": "text/x-python",
   "name": "python",
   "nbconvert_exporter": "python",
   "pygments_lexer": "ipython3",
   "version": "3.7.0"
  }
 },
 "nbformat": 4,
 "nbformat_minor": 2
}
